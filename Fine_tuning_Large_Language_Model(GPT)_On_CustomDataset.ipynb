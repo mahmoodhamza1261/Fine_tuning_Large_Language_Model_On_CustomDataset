{
  "metadata": {
    "kernelspec": {
      "name": "python3",
      "display_name": "Python 3",
      "language": "python"
    },
    "language_info": {
      "name": "python",
      "version": "3.10.12",
      "mimetype": "text/x-python",
      "codemirror_mode": {
        "name": "ipython",
        "version": 3
      },
      "pygments_lexer": "ipython3",
      "nbconvert_exporter": "python",
      "file_extension": ".py"
    },
    "colab": {
      "provenance": [],
      "gpuType": "T4"
    },
    "accelerator": "GPU",
    "kaggle": {
      "accelerator": "nvidiaTeslaT4",
      "dataSources": [],
      "dockerImageVersionId": 30919,
      "isInternetEnabled": true,
      "language": "python",
      "sourceType": "notebook",
      "isGpuEnabled": true
    }
  },
  "nbformat_minor": 0,
  "nbformat": 4,
  "cells": [
    {
      "cell_type": "code",
      "source": [
        "!pip install bitsandbytes\n"
      ],
      "metadata": {
        "id": "SQHh9-NrjXO2",
        "trusted": true,
        "execution": {
          "iopub.status.busy": "2025-03-15T20:05:01.27925Z",
          "iopub.execute_input": "2025-03-15T20:05:01.27951Z",
          "iopub.status.idle": "2025-03-15T20:05:09.474916Z",
          "shell.execute_reply.started": "2025-03-15T20:05:01.279473Z",
          "shell.execute_reply": "2025-03-15T20:05:09.473758Z"
        }
      },
      "outputs": [],
      "execution_count": null
    },
    {
      "cell_type": "code",
      "source": [
        "print(\"hello\")"
      ],
      "metadata": {
        "trusted": true,
        "execution": {
          "iopub.status.busy": "2025-03-15T20:05:09.476044Z",
          "iopub.execute_input": "2025-03-15T20:05:09.476342Z",
          "iopub.status.idle": "2025-03-15T20:05:09.481052Z",
          "shell.execute_reply.started": "2025-03-15T20:05:09.476315Z",
          "shell.execute_reply": "2025-03-15T20:05:09.480164Z"
        },
        "id": "6D-NeglSFrnF",
        "outputId": "d531c9da-4d21-4947-8cd8-06975a57119e"
      },
      "outputs": [
        {
          "name": "stdout",
          "text": "hello\n",
          "output_type": "stream"
        }
      ],
      "execution_count": null
    },
    {
      "cell_type": "code",
      "source": [
        "!pip install transformers"
      ],
      "metadata": {
        "id": "vn8zCz5TjZpK",
        "trusted": true,
        "execution": {
          "iopub.status.busy": "2025-03-15T20:05:09.482126Z",
          "iopub.execute_input": "2025-03-15T20:05:09.482401Z",
          "iopub.status.idle": "2025-03-15T20:05:13.054109Z",
          "shell.execute_reply.started": "2025-03-15T20:05:09.48238Z",
          "shell.execute_reply": "2025-03-15T20:05:13.053025Z"
        }
      },
      "outputs": [],
      "execution_count": null
    },
    {
      "cell_type": "code",
      "source": [
        "!pip install datasets"
      ],
      "metadata": {
        "id": "Lm9QDxq7j473",
        "trusted": true,
        "execution": {
          "iopub.status.busy": "2025-03-15T20:05:13.055891Z",
          "iopub.execute_input": "2025-03-15T20:05:13.056251Z",
          "iopub.status.idle": "2025-03-15T20:05:16.674766Z",
          "shell.execute_reply.started": "2025-03-15T20:05:13.056219Z",
          "shell.execute_reply": "2025-03-15T20:05:16.673901Z"
        }
      },
      "outputs": [],
      "execution_count": null
    },
    {
      "cell_type": "code",
      "source": [
        "!pip install peft\n"
      ],
      "metadata": {
        "id": "RDS6XK_rj97F",
        "trusted": true,
        "execution": {
          "iopub.status.busy": "2025-03-15T20:05:16.676295Z",
          "iopub.execute_input": "2025-03-15T20:05:16.676566Z",
          "iopub.status.idle": "2025-03-15T20:05:20.199065Z",
          "shell.execute_reply.started": "2025-03-15T20:05:16.676543Z",
          "shell.execute_reply": "2025-03-15T20:05:20.198008Z"
        }
      },
      "outputs": [],
      "execution_count": null
    },
    {
      "cell_type": "code",
      "source": [
        "import torch\n",
        "from transformers import AutoModelForCausalLM, AutoTokenizer, TrainingArguments, Trainer\n",
        "from datasets import load_dataset\n",
        "from peft import LoraConfig, get_peft_model\n",
        "from transformers import DataCollatorForSeq2Seq\n",
        "from transformers import DataCollatorForLanguageModeling"
      ],
      "metadata": {
        "id": "sfkKFNpdkWQD",
        "trusted": true,
        "execution": {
          "iopub.status.busy": "2025-03-15T20:05:20.200226Z",
          "iopub.execute_input": "2025-03-15T20:05:20.200601Z",
          "iopub.status.idle": "2025-03-15T20:05:20.205506Z",
          "shell.execute_reply.started": "2025-03-15T20:05:20.200561Z",
          "shell.execute_reply": "2025-03-15T20:05:20.20456Z"
        }
      },
      "outputs": [],
      "execution_count": null
    },
    {
      "cell_type": "code",
      "source": [
        "dataset = load_dataset(\"cnn_dailymail\", \"3.0.0\")\n",
        "\n",
        "# Select only a subset (e.g., 5k training samples & 1k validation samples)\n",
        "small_train = dataset[\"train\"].shuffle(seed=42).select(range(5000))\n",
        "small_valid = dataset[\"validation\"].shuffle(seed=42).select(range(1000))\n",
        "\n",
        "# Replace the dataset with the smaller subset\n",
        "dataset[\"train\"] = small_train\n",
        "dataset[\"validation\"] = small_valid\n"
      ],
      "metadata": {
        "id": "URnjioCRkgG9",
        "trusted": true,
        "execution": {
          "iopub.status.busy": "2025-03-15T20:05:20.206498Z",
          "iopub.execute_input": "2025-03-15T20:05:20.20681Z",
          "iopub.status.idle": "2025-03-15T20:05:33.065385Z",
          "shell.execute_reply.started": "2025-03-15T20:05:20.206775Z",
          "shell.execute_reply": "2025-03-15T20:05:33.064336Z"
        }
      },
      "outputs": [],
      "execution_count": null
    },
    {
      "cell_type": "code",
      "source": [
        "model_name = \"gpt2\"  # You can replace this with another model\n",
        "\n"
      ],
      "metadata": {
        "id": "dBxH8xRjknTb",
        "trusted": true,
        "execution": {
          "iopub.status.busy": "2025-03-15T20:05:33.066465Z",
          "iopub.execute_input": "2025-03-15T20:05:33.0668Z",
          "iopub.status.idle": "2025-03-15T20:05:33.0708Z",
          "shell.execute_reply.started": "2025-03-15T20:05:33.066769Z",
          "shell.execute_reply": "2025-03-15T20:05:33.069925Z"
        }
      },
      "outputs": [],
      "execution_count": null
    },
    {
      "cell_type": "code",
      "source": [
        "tokenizer = AutoTokenizer.from_pretrained(model_name)"
      ],
      "metadata": {
        "id": "SVbtZ41LlTh_",
        "trusted": true,
        "execution": {
          "iopub.status.busy": "2025-03-15T20:05:33.071574Z",
          "iopub.execute_input": "2025-03-15T20:05:33.071832Z",
          "iopub.status.idle": "2025-03-15T20:05:34.086516Z",
          "shell.execute_reply.started": "2025-03-15T20:05:33.07181Z",
          "shell.execute_reply": "2025-03-15T20:05:34.085443Z"
        }
      },
      "outputs": [],
      "execution_count": null
    },
    {
      "cell_type": "code",
      "source": [
        "tokenizer.pad_token = tokenizer.eos_token\n",
        "def tokenize_function(example):\n",
        "    return tokenizer(example[\"article\"], truncation=True, padding=\"max_length\", max_length=512)\n",
        "\n",
        "tokenized_datasets = dataset.map(tokenize_function, batched=True)"
      ],
      "metadata": {
        "id": "0AO99-6_lbIR",
        "trusted": true,
        "execution": {
          "iopub.status.busy": "2025-03-15T20:05:34.087578Z",
          "iopub.execute_input": "2025-03-15T20:05:34.087854Z",
          "iopub.status.idle": "2025-03-15T20:05:57.517571Z",
          "shell.execute_reply.started": "2025-03-15T20:05:34.087833Z",
          "shell.execute_reply": "2025-03-15T20:05:57.516785Z"
        }
      },
      "outputs": [],
      "execution_count": null
    },
    {
      "cell_type": "code",
      "source": [
        "tokenized_datasets=tokenized_datasets.remove_columns(['article',\"highlights\"])\n",
        "print(tokenized_datasets)\n",
        "print(tokenized_datasets[\"train\"][0][\"input_ids\"])\n"
      ],
      "metadata": {
        "id": "6tZ1auz8qBOZ",
        "trusted": true,
        "execution": {
          "iopub.status.busy": "2025-03-15T20:05:57.518576Z",
          "iopub.execute_input": "2025-03-15T20:05:57.518932Z",
          "iopub.status.idle": "2025-03-15T20:05:57.530871Z",
          "shell.execute_reply.started": "2025-03-15T20:05:57.518898Z",
          "shell.execute_reply": "2025-03-15T20:05:57.530105Z"
        }
      },
      "outputs": [],
      "execution_count": null
    },
    {
      "cell_type": "code",
      "source": [
        "tokenized_datasets.set_format(\"torch\")\n",
        "print(tokenized_datasets)\n",
        "print(tokenized_datasets[\"train\"][0][\"input_ids\"])"
      ],
      "metadata": {
        "id": "NakSCDOU7pYv",
        "trusted": true,
        "execution": {
          "iopub.status.busy": "2025-03-15T20:05:57.531578Z",
          "iopub.execute_input": "2025-03-15T20:05:57.531831Z",
          "iopub.status.idle": "2025-03-15T20:05:57.832209Z",
          "shell.execute_reply.started": "2025-03-15T20:05:57.53181Z",
          "shell.execute_reply": "2025-03-15T20:05:57.831408Z"
        }
      },
      "outputs": [],
      "execution_count": null
    },
    {
      "cell_type": "code",
      "source": [
        "model = AutoModelForCausalLM.from_pretrained(model_name, torch_dtype=torch.float16, device_map=\"auto\")"
      ],
      "metadata": {
        "id": "FffyvPdN_eYJ",
        "trusted": true,
        "execution": {
          "iopub.status.busy": "2025-03-15T20:05:57.83464Z",
          "iopub.execute_input": "2025-03-15T20:05:57.834912Z",
          "iopub.status.idle": "2025-03-15T20:06:01.986324Z",
          "shell.execute_reply.started": "2025-03-15T20:05:57.83489Z",
          "shell.execute_reply": "2025-03-15T20:06:01.985613Z"
        }
      },
      "outputs": [],
      "execution_count": null
    },
    {
      "cell_type": "code",
      "source": [
        "print(model)"
      ],
      "metadata": {
        "trusted": true,
        "execution": {
          "iopub.status.busy": "2025-03-15T20:06:01.987529Z",
          "iopub.execute_input": "2025-03-15T20:06:01.987812Z",
          "iopub.status.idle": "2025-03-15T20:06:01.992961Z",
          "shell.execute_reply.started": "2025-03-15T20:06:01.987789Z",
          "shell.execute_reply": "2025-03-15T20:06:01.992045Z"
        },
        "id": "_Kfd182nFrnO"
      },
      "outputs": [],
      "execution_count": null
    },
    {
      "cell_type": "code",
      "source": [
        "#Apply LoRA\n",
        "lora_config=LoraConfig(\n",
        "    r=8,\n",
        "    lora_alpha=16,\n",
        "    target_modules=[\"c_attn\", \"c_proj\"],\n",
        "    lora_dropout=0.05\n",
        ")"
      ],
      "metadata": {
        "trusted": true,
        "execution": {
          "iopub.status.busy": "2025-03-15T20:06:01.993939Z",
          "iopub.execute_input": "2025-03-15T20:06:01.994219Z",
          "iopub.status.idle": "2025-03-15T20:06:02.016746Z",
          "shell.execute_reply.started": "2025-03-15T20:06:01.994197Z",
          "shell.execute_reply": "2025-03-15T20:06:02.015858Z"
        },
        "id": "SE9j4qb7FrnP"
      },
      "outputs": [],
      "execution_count": null
    },
    {
      "cell_type": "code",
      "source": [
        "model=get_peft_model(model,lora_config)"
      ],
      "metadata": {
        "trusted": true,
        "execution": {
          "iopub.status.busy": "2025-03-15T20:06:02.017585Z",
          "iopub.execute_input": "2025-03-15T20:06:02.017892Z",
          "iopub.status.idle": "2025-03-15T20:06:02.384065Z",
          "shell.execute_reply.started": "2025-03-15T20:06:02.017872Z",
          "shell.execute_reply": "2025-03-15T20:06:02.383093Z"
        },
        "id": "JmmkwDj1FrnP"
      },
      "outputs": [],
      "execution_count": null
    },
    {
      "cell_type": "code",
      "source": [
        "print(model)\n",
        "# Check trainable parameters (After LoRA)\n",
        "model.print_trainable_parameters()"
      ],
      "metadata": {
        "trusted": true,
        "execution": {
          "iopub.status.busy": "2025-03-15T20:06:02.38491Z",
          "iopub.execute_input": "2025-03-15T20:06:02.38525Z",
          "iopub.status.idle": "2025-03-15T20:06:02.393448Z",
          "shell.execute_reply.started": "2025-03-15T20:06:02.385217Z",
          "shell.execute_reply": "2025-03-15T20:06:02.392384Z"
        },
        "id": "1bF_X0iKFrnP"
      },
      "outputs": [],
      "execution_count": null
    },
    {
      "cell_type": "code",
      "source": [
        "training_args=TrainingArguments(\n",
        "    output_dir=\"./fine_tuned_llm\",\n",
        "    evaluation_strategy=\"epoch\",\n",
        "    save_strategy=\"epoch\",\n",
        "    per_device_train_batch_size=1,\n",
        "    per_device_eval_batch_size=1,\n",
        "    num_train_epochs=1,\n",
        "    logging_dir=\"./logs\",\n",
        "    logging_steps=500,\n",
        "    save_total_limit=2,\n",
        "    report_to=\"none\"\n",
        ")"
      ],
      "metadata": {
        "trusted": true,
        "execution": {
          "iopub.status.busy": "2025-03-15T20:06:02.394198Z",
          "iopub.execute_input": "2025-03-15T20:06:02.394395Z",
          "iopub.status.idle": "2025-03-15T20:06:02.443531Z",
          "shell.execute_reply.started": "2025-03-15T20:06:02.394377Z",
          "shell.execute_reply": "2025-03-15T20:06:02.442521Z"
        },
        "id": "_qe5SPpgFrnQ"
      },
      "outputs": [],
      "execution_count": null
    },
    {
      "cell_type": "code",
      "source": [
        "#This collator automatically adds labels by shifting the input tokens during training.\n",
        "data_collator = DataCollatorForLanguageModeling(\n",
        "    tokenizer=tokenizer,\n",
        "    mlm=False  # mlm=True is for BERT-like models, but BLOOM is autoregressive\n",
        ")"
      ],
      "metadata": {
        "trusted": true,
        "execution": {
          "iopub.status.busy": "2025-03-15T20:06:02.444431Z",
          "iopub.execute_input": "2025-03-15T20:06:02.444651Z",
          "iopub.status.idle": "2025-03-15T20:06:02.448366Z",
          "shell.execute_reply.started": "2025-03-15T20:06:02.444631Z",
          "shell.execute_reply": "2025-03-15T20:06:02.447608Z"
        },
        "id": "leuqObbVFrnQ"
      },
      "outputs": [],
      "execution_count": null
    },
    {
      "cell_type": "code",
      "source": [
        "\n",
        "\n",
        "trainer=Trainer(\n",
        "    model=model,\n",
        "    args=training_args,\n",
        "    train_dataset=tokenized_datasets[\"train\"],\n",
        "    eval_dataset=tokenized_datasets[\"validation\"],\n",
        "    tokenizer=tokenizer,\n",
        "    data_collator=data_collator\n",
        ")"
      ],
      "metadata": {
        "trusted": true,
        "execution": {
          "iopub.status.busy": "2025-03-15T20:06:02.449152Z",
          "iopub.execute_input": "2025-03-15T20:06:02.449435Z",
          "iopub.status.idle": "2025-03-15T20:06:02.48359Z",
          "shell.execute_reply.started": "2025-03-15T20:06:02.449404Z",
          "shell.execute_reply": "2025-03-15T20:06:02.482958Z"
        },
        "id": "ndJItdafFrnQ",
        "outputId": "71d35b91-0a87-4c52-fe03-c6d6536c9682"
      },
      "outputs": [
        {
          "name": "stderr",
          "text": "<ipython-input-20-de3f97fe3e75>:1: FutureWarning: `tokenizer` is deprecated and will be removed in version 5.0.0 for `Trainer.__init__`. Use `processing_class` instead.\n  trainer=Trainer(\n",
          "output_type": "stream"
        }
      ],
      "execution_count": null
    },
    {
      "cell_type": "code",
      "source": [
        "trainer.train()"
      ],
      "metadata": {
        "trusted": true,
        "execution": {
          "iopub.status.busy": "2025-03-15T20:06:02.484298Z",
          "iopub.execute_input": "2025-03-15T20:06:02.484559Z",
          "iopub.status.idle": "2025-03-15T20:11:54.368714Z",
          "shell.execute_reply.started": "2025-03-15T20:06:02.484538Z",
          "shell.execute_reply": "2025-03-15T20:11:54.367744Z"
        },
        "id": "x3HvWaenFrnR"
      },
      "outputs": [],
      "execution_count": null
    },
    {
      "cell_type": "code",
      "source": [
        "trainer.save_model(\"./fine_tuned_llm\")\n",
        "tokenizer.save_pretrained(\"./fine_tuned_llm\")"
      ],
      "metadata": {
        "trusted": true,
        "execution": {
          "iopub.status.busy": "2025-03-15T20:11:54.369718Z",
          "iopub.execute_input": "2025-03-15T20:11:54.370059Z",
          "iopub.status.idle": "2025-03-15T20:11:54.586763Z",
          "shell.execute_reply.started": "2025-03-15T20:11:54.370037Z",
          "shell.execute_reply": "2025-03-15T20:11:54.586044Z"
        },
        "id": "G-JhpGv8FrnR"
      },
      "outputs": [],
      "execution_count": null
    },
    {
      "cell_type": "code",
      "source": [
        "model_path=\"/kaggle/working/fine_tuned_llm\"\n",
        "tokenizer=AutoTokenizer.from_pretrained(model_path)\n",
        "tokenizer.pad_token = tokenizer.eos_token  # Fix padding issue\n",
        "model=AutoModelForCausalLM.from_pretrained(model_path,torch_dtype=torch.float16,device_map=\"auto\")"
      ],
      "metadata": {
        "trusted": true,
        "execution": {
          "iopub.status.busy": "2025-03-15T20:30:38.403105Z",
          "iopub.execute_input": "2025-03-15T20:30:38.403451Z",
          "iopub.status.idle": "2025-03-15T20:30:39.660839Z",
          "shell.execute_reply.started": "2025-03-15T20:30:38.403421Z",
          "shell.execute_reply": "2025-03-15T20:30:39.659895Z"
        },
        "id": "bc4I_VPhFrnR"
      },
      "outputs": [],
      "execution_count": null
    },
    {
      "cell_type": "code",
      "source": [
        "def generate_text(prompt,max_lenght=100):\n",
        "    inputs=tokenizer(prompt,return_tensors=\"pt\").to(\"cuda\")\n",
        "    with torch.no_grad():\n",
        "        output=model.generate(\n",
        "            **inputs,\n",
        "            max_length=512,\n",
        "            num_return_sequences=1,\n",
        "            pad_token_id=tokenizer.eos_token_id,\n",
        "            do_sample=True,\n",
        "            temperature=0.9,\n",
        "            top_k=40,\n",
        "            top_p=0.85,\n",
        "            repetition_penalty=1.2\n",
        "        )\n",
        "    return tokenizer.decode(output[0],skip_special_tokens=True)"
      ],
      "metadata": {
        "trusted": true,
        "execution": {
          "iopub.status.busy": "2025-03-15T20:30:47.039963Z",
          "iopub.execute_input": "2025-03-15T20:30:47.040249Z",
          "iopub.status.idle": "2025-03-15T20:30:47.045096Z",
          "shell.execute_reply.started": "2025-03-15T20:30:47.040226Z",
          "shell.execute_reply": "2025-03-15T20:30:47.044172Z"
        },
        "id": "faFcNmLfFrnS"
      },
      "outputs": [],
      "execution_count": null
    },
    {
      "cell_type": "code",
      "source": [
        "prompt = \"The latest advancements in AI suggest that\"\n",
        "generated_text = generate_text(prompt)\n",
        "print(\"Generated Output:\\n\", generated_text)"
      ],
      "metadata": {
        "trusted": true,
        "execution": {
          "iopub.status.busy": "2025-03-15T20:30:50.435811Z",
          "iopub.execute_input": "2025-03-15T20:30:50.436106Z",
          "iopub.status.idle": "2025-03-15T20:30:57.319808Z",
          "shell.execute_reply.started": "2025-03-15T20:30:50.436082Z",
          "shell.execute_reply": "2025-03-15T20:30:57.319Z"
        },
        "id": "s-bwL-NQFrnS",
        "outputId": "b273bc79-1d57-401f-babf-bfd83774aac2"
      },
      "outputs": [
        {
          "name": "stdout",
          "text": "Generated Output:\n The latest advancements in AI suggest that robots can be made to recognise and recognize smells. Robots are now capable of detecting smell's cumbersomeness as they walk around, for example through the scent hearers get from their eyes; noddles will detect a whistle on an armchair speaker with air-powered microphones but don't have these tools anymore . [ccordingto news reports , scientists were able develop machines which would stop sniffing when faced withdescription (\t) - this is what you'd expect if humans went into practitionesive moods or challengies? In contrast we're still trying it here at MIT – robotic vision has been debated since 2008 by academics who describe them not just too much like dogs without any sense about where your ears stand: We've got tissues! This time though I'll tell some science fiction tale : The future looks brighter than ever before because my favourite thing was having two scissors fitted onto each other while talkingensical sentences together ... Now there seems no longer such strange distinctions between our senses... If only more technology could solve its own mystery ! How did machine enthusiats go astray ? Well meticortunately neither sides know exactly how many people lived within 5 miles' worth alone today ; ounatever happens tonight may come tomorrow night.\" Scientists say whether describable aroma odours constitute real pain must ultimately decide why modern technologies cannot find good ways over decades due increasingly expensive medical treatments being used right across Europe.'\n 'It feels unreal,' says Cambridge graduate student Petra Dovarski \"Now those poor guys do things similar tyrinesquely during warrmages awaie extinguiance tremendur occasualler elephanufacture de lumentation et mysterière conducé aux principes dans votre distinguisants agreements que destroix qui accompagnant à quelques suspicantes arrangés entendent pour ralliers ensuites du pioneut océditions\".\n",
          "output_type": "stream"
        }
      ],
      "execution_count": null
    },
    {
      "cell_type": "code",
      "source": [],
      "metadata": {
        "trusted": true,
        "id": "8E4ChcWjFrnS"
      },
      "outputs": [],
      "execution_count": null
    },
    {
      "cell_type": "code",
      "source": [],
      "metadata": {
        "trusted": true,
        "id": "5HMCVie-FrnS"
      },
      "outputs": [],
      "execution_count": null
    }
  ]
}